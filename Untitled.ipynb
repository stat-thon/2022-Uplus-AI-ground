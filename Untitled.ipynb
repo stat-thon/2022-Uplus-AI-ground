{
 "cells": [
  {
   "cell_type": "code",
   "execution_count": null,
   "id": "074b9526",
   "metadata": {},
   "outputs": [],
   "source": [
    "n, m = map(int,input())"
   ]
  },
  {
   "cell_type": "code",
   "execution_count": null,
   "id": "d7fe72f6",
   "metadata": {},
   "outputs": [],
   "source": [
    "graph = []\n",
    "\n",
    "for i in range(n):\n",
    "    graph.append(input())\n",
    "    \n"
   ]
  },
  {
   "cell_type": "code",
   "execution_count": null,
   "id": "fc4c38e7",
   "metadata": {},
   "outputs": [],
   "source": [
    "from collections import deque\n",
    "\n",
    "dx = [1, 0, -1, 0]\n",
    "dy = [0, 1, 0, -1]"
   ]
  },
  {
   "cell_type": "code",
   "execution_count": null,
   "id": "26c95b1c",
   "metadata": {},
   "outputs": [],
   "source": [
    "def bfs(x,y):\n",
    "    \n",
    "    queue = deque ()\n",
    "    queue.append (( x , y ))\n",
    "    while queue :\n",
    "        x , y = queue.popleft ()\n",
    "        for i in range ( 4 ):\n",
    "            nx = x + dx[ i ]\n",
    "            ny = y + dy[ i ] \n",
    "            \n",
    "            \n",
    "            if nx < 0 or ny < 0 or nx >= n or ny >= m :\n",
    "                continue\n",
    "\n",
    "            if graph [ nx ][ny ] == '' :\n",
    "                continue\n",
    "# 해당 노드를 처음 방문하는 경우에만 최단 거리 기록\n",
    "if graph [ nx ][ ny ] = = 1 :\n",
    "graph [ nx ][ ny ] = graph [ x ][ y ] + 1\n",
    "queue . append (( nx , ny )) # 가장 오른쪽 아래까지의 최단 거리 반환\n"
   ]
  },
  {
   "cell_type": "code",
   "execution_count": null,
   "id": "fea9aafb",
   "metadata": {},
   "outputs": [],
   "source": []
  },
  {
   "cell_type": "code",
   "execution_count": null,
   "id": "0c791a57",
   "metadata": {},
   "outputs": [],
   "source": []
  },
  {
   "cell_type": "code",
   "execution_count": null,
   "id": "25cbf14d",
   "metadata": {},
   "outputs": [],
   "source": []
  },
  {
   "cell_type": "code",
   "execution_count": null,
   "id": "c3c35b6b",
   "metadata": {},
   "outputs": [],
   "source": []
  },
  {
   "cell_type": "code",
   "execution_count": null,
   "id": "dc43cd91",
   "metadata": {},
   "outputs": [],
   "source": []
  },
  {
   "cell_type": "code",
   "execution_count": null,
   "id": "deb20c94",
   "metadata": {},
   "outputs": [],
   "source": []
  },
  {
   "cell_type": "code",
   "execution_count": null,
   "id": "7419e317",
   "metadata": {},
   "outputs": [],
   "source": []
  }
 ],
 "metadata": {
  "kernelspec": {
   "display_name": "Python 3 (ipykernel)",
   "language": "python",
   "name": "python3"
  },
  "language_info": {
   "codemirror_mode": {
    "name": "ipython",
    "version": 3
   },
   "file_extension": ".py",
   "mimetype": "text/x-python",
   "name": "python",
   "nbconvert_exporter": "python",
   "pygments_lexer": "ipython3",
   "version": "3.7.6"
  }
 },
 "nbformat": 4,
 "nbformat_minor": 5
}
