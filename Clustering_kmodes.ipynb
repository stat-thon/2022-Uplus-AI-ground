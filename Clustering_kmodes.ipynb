{
 "cells": [
  {
   "cell_type": "code",
   "execution_count": 1,
   "id": "c218815e",
   "metadata": {},
   "outputs": [],
   "source": [
    "# 패키지 로드\n",
    "import warnings\n",
    "warnings.filterwarnings('ignore')\n",
    "\n",
    "import numpy as np\n",
    "import pandas as pd\n",
    "from tqdm.notebook import tqdm\n",
    "from sklearn.model_selection import train_test_split\n",
    "from collections import defaultdict\n",
    "import os, random\n",
    "\n",
    "from scipy import sparse\n",
    "from sklearn.preprocessing import LabelEncoder, OneHotEncoder\n",
    "import matplotlib.pyplot as plt\n",
    "%matplotlib inline\n",
    "\n",
    "import torch\n",
    "import torch.nn as nn\n",
    "from torch.nn.init import normal_\n",
    "from torch.utils.data import TensorDataset, DataLoader\n",
    "import torch.nn.functional as F\n",
    "\n",
    "import plotnine\n",
    "from plotnine import *"
   ]
  },
  {
   "cell_type": "code",
   "execution_count": 8,
   "id": "ab4174ec",
   "metadata": {},
   "outputs": [],
   "source": [
    "class KModesAlgorithm():\n",
    "\n",
    "    def __init__(self, k, max_step=5, n_iter=5, random_state=100, init_cci=None):\n",
    "        self.k = k ## 클러스터 개수\n",
    "        self.max_step = max_step ## 최대 스텝 수\n",
    "        self.n_iter = n_iter ## 초기 클러스터 중심 샘플링 횟수\n",
    "        self.random_state = random_state ## 랜덤 시드\n",
    "        self.X_categorized = None ## 숫자로 범주화된 데이터\n",
    "        self.cluster_center = None ## 최종 클러스터 중심\n",
    "        self.cat_map_dict = None ## 범주를 숫자로 바꾸기 위한 딕셔너리\n",
    "        self.predicted_cluster = None ## 최종 할당 클러스터\n",
    "        self.init_cci = init_cci ## 초기 클러스터 인덱스\n",
    "\n",
    "    def get_mode(self, x):\n",
    "        return np.bincount(x).argmax()\n",
    "\n",
    "    def cat_to_num(self, X):\n",
    "        num_feature = X.shape[1]\n",
    "        cat_map_dict = dict()\n",
    "        \n",
    "        for i in range(num_feature):\n",
    "            uniq_val = np.unique(X[:,i])\n",
    "            cat_to_num = dict()\n",
    "            num_to_cat = dict()\n",
    "            \n",
    "            for j, uv in enumerate(uniq_val):\n",
    "                cat_to_num[uv] = j\n",
    "                num_to_cat[j] = uv\n",
    "            cat_map_dict[i] = [cat_to_num, num_to_cat]\n",
    "        self.cat_map_dict = cat_map_dict\n",
    "\n",
    "    def dissimilarity(self, x, y):\n",
    "        return np.sum(x!=y)\n",
    "\n",
    "    def fit(self, X):\n",
    "        is_fitting = True\n",
    "        X = X.copy()\n",
    "        self.cat_to_num(X)\n",
    "        k = self.k\n",
    "        \n",
    "        ## category to num\n",
    "        for i in range(X.shape[1]):\n",
    "            col_cat_map = self.cat_map_dict[i][0]\n",
    "            X[:, i] = list(map(lambda x: col_cat_map[x], X[:, i]))\n",
    "        X = X.astype(np.int64)\n",
    "        self.X_categorized = X\n",
    "        \n",
    "        ## choose initial cluster center\n",
    "        if self.init_cci is None:\n",
    "            np.random.seed(self.random_state)\n",
    "            obj_val = np.infty\n",
    "            for _ in range(self.n_iter):\n",
    "                cluster_center_idx = np.random.choice(range(X.shape[0]), size=k, replace=False)\n",
    "                \n",
    "                ## Assign Cluster\n",
    "                cluster_center = X[cluster_center_idx, :]\n",
    "                predicted_cluster = self.predict(X, cluster_center, is_fitting)    \n",
    "                cur_val = 0\n",
    "\n",
    "                for i, pc in enumerate(predicted_cluster):\n",
    "                    cur_val += self.dissimilarity(X[i:], cluster_center[pc])\n",
    "                if cur_val < obj_val:\n",
    "                    obj_val = cur_val\n",
    "                    opt_cci = cluster_center_idx\n",
    "            self.init_cci = cluster_center_idx\n",
    "\n",
    "        ## Apply Algorithm\n",
    "        step = 1\n",
    "        cur_cluster_center = X[self.init_cci, :]\n",
    "        cur_predicted_cluster = self.predict(X, cur_cluster_center, is_fitting)\n",
    "\n",
    "        while step <= self.max_step:\n",
    "\n",
    "            ## Update Center\n",
    "            next_cluster_center = []\n",
    "\n",
    "            for c in np.unique(cur_predicted_cluster):\n",
    "                c_idx = np.where(cur_predicted_cluster == c)[0]\n",
    "                temp_cluster_center = np.apply_along_axis(self.get_mode, 0, X[c_idx,:])\n",
    "                temp_cluster_center = temp_cluster_center.tolist()\n",
    "                next_cluster_center.append(temp_cluster_center)\n",
    "\n",
    "            next_cluster_center = np.array(next_cluster_center)\n",
    "            \n",
    "            ## Assign Cluster\n",
    "            next_predicted_cluster = self.predict(X, next_cluster_center, is_fitting)\n",
    "\n",
    "            ## Stop Criterion\n",
    "            if len(np.unique(next_predicted_cluster)) != k:\n",
    "                self.predicted_cluster = cur_predicted_cluster\n",
    "                self.cluster_center = cur_cluster_center\n",
    "                break\n",
    "\n",
    "            if all(cur_predicted_cluster == next_predicted_cluster):\n",
    "                self.predicted_cluster = cur_predicted_cluster\n",
    "                self.cluster_center = cur_cluster_center\n",
    "                break\n",
    "\n",
    "            else:\n",
    "                cur_cluster_center = next_cluster_center\n",
    "                cur_predicted_cluster = next_predicted_cluster\n",
    "                step += 1\n",
    "\n",
    "        self.predicted_cluster = next_predicted_cluster\n",
    "        self.cluster_center = next_cluster_center\n",
    "\n",
    "        return self\n",
    "\n",
    "    ## Assign Clusters\n",
    "\n",
    "    def predict(self, X, cluster_center=None, is_fitting=False):\n",
    "        if is_fitting:\n",
    "            return np.array([self._predict(x, cluster_center) for x in X])\n",
    "\n",
    "        else:\n",
    "            for i in range(X.shape[1]):\n",
    "                col_cat_map = self.cat_map_dict[i][0]\n",
    "                X[:, i] = list(map(lambda x: col_cat_map[x], X[:, i]))\n",
    "            X = X.astype(np.int64)\n",
    "\n",
    "            return np.array([self._predict(x, cluster_center) for x in X])\n",
    "\n",
    "    def _predict(self, x, cluster_center=None, is_fitting=False):\n",
    "\n",
    "        if cluster_center is None:\n",
    "            cluster_center = self.cluster_center\n",
    "        return np.argmin([self.dissimilarity(x, cc) for cc in cluster_center])"
   ]
  },
  {
   "cell_type": "code",
   "execution_count": 10,
   "id": "0da185b5",
   "metadata": {},
   "outputs": [],
   "source": [
    "# 경로 설정\n",
    "data_path = './data'\n",
    "saved_path = './code/saved'\n",
    "output_path = './code/submission'"
   ]
  },
  {
   "cell_type": "code",
   "execution_count": 11,
   "id": "d0bfe8da",
   "metadata": {},
   "outputs": [],
   "source": [
    "history_df = pd.read_csv(os.path.join(data_path, 'history_data.csv'), encoding='utf-8')\n",
    "profile_df = pd.read_csv(os.path.join(data_path, 'profile_data.csv'), encoding='utf-8')\n",
    "meta_df = pd.read_csv(os.path.join(data_path, 'meta_data.csv'), encoding='utf-8')\n",
    "watch_e_df = pd.read_csv(os.path.join(data_path, 'watch_e_data.csv'), encoding='utf-8')\n",
    "search_df =  pd.read_csv(os.path.join(data_path, 'search_data.csv'), encoding='utf-8')\n",
    "buy_df = pd.read_csv(os.path.join(data_path, 'buy_data.csv'), encoding='utf-8')\n",
    "meta_plus_df = pd.read_csv(os.path.join(data_path, 'meta_data_plus.csv'), encoding='utf-8')"
   ]
  },
  {
   "cell_type": "code",
   "execution_count": 16,
   "id": "83f81132",
   "metadata": {},
   "outputs": [],
   "source": [
    "import pickle\n",
    "with open('tag_for_all_id.pickle', 'rb') as f:\n",
    "    tag = pickle.load(f)"
   ]
  },
  {
   "cell_type": "code",
   "execution_count": 17,
   "id": "84bec6a4",
   "metadata": {
    "scrolled": true
   },
   "outputs": [
    {
     "data": {
      "text/html": [
       "<div>\n",
       "<style scoped>\n",
       "    .dataframe tbody tr th:only-of-type {\n",
       "        vertical-align: middle;\n",
       "    }\n",
       "\n",
       "    .dataframe tbody tr th {\n",
       "        vertical-align: top;\n",
       "    }\n",
       "\n",
       "    .dataframe thead th {\n",
       "        text-align: right;\n",
       "    }\n",
       "</style>\n",
       "<table border=\"1\" class=\"dataframe\">\n",
       "  <thead>\n",
       "    <tr style=\"text-align: right;\">\n",
       "      <th></th>\n",
       "      <th>album_id</th>\n",
       "      <th>tag</th>\n",
       "    </tr>\n",
       "  </thead>\n",
       "  <tbody>\n",
       "    <tr>\n",
       "      <th>0</th>\n",
       "      <td>749</td>\n",
       "      <td>타요</td>\n",
       "    </tr>\n",
       "    <tr>\n",
       "      <th>1</th>\n",
       "      <td>750</td>\n",
       "      <td>타요</td>\n",
       "    </tr>\n",
       "    <tr>\n",
       "      <th>2</th>\n",
       "      <td>2131</td>\n",
       "      <td>타요</td>\n",
       "    </tr>\n",
       "    <tr>\n",
       "      <th>3</th>\n",
       "      <td>2625</td>\n",
       "      <td>타요</td>\n",
       "    </tr>\n",
       "    <tr>\n",
       "      <th>4</th>\n",
       "      <td>2594</td>\n",
       "      <td>타요</td>\n",
       "    </tr>\n",
       "    <tr>\n",
       "      <th>...</th>\n",
       "      <td>...</td>\n",
       "      <td>...</td>\n",
       "    </tr>\n",
       "    <tr>\n",
       "      <th>39870</th>\n",
       "      <td>39872</td>\n",
       "      <td>교육</td>\n",
       "    </tr>\n",
       "    <tr>\n",
       "      <th>39871</th>\n",
       "      <td>39873</td>\n",
       "      <td>교육</td>\n",
       "    </tr>\n",
       "    <tr>\n",
       "      <th>39872</th>\n",
       "      <td>39874</td>\n",
       "      <td>교육</td>\n",
       "    </tr>\n",
       "    <tr>\n",
       "      <th>39873</th>\n",
       "      <td>4779</td>\n",
       "      <td>동화</td>\n",
       "    </tr>\n",
       "    <tr>\n",
       "      <th>39874</th>\n",
       "      <td>11629</td>\n",
       "      <td>교육</td>\n",
       "    </tr>\n",
       "  </tbody>\n",
       "</table>\n",
       "<p>39875 rows × 2 columns</p>\n",
       "</div>"
      ],
      "text/plain": [
       "       album_id tag\n",
       "0           749  타요\n",
       "1           750  타요\n",
       "2          2131  타요\n",
       "3          2625  타요\n",
       "4          2594  타요\n",
       "...         ...  ..\n",
       "39870     39872  교육\n",
       "39871     39873  교육\n",
       "39872     39874  교육\n",
       "39873      4779  동화\n",
       "39874     11629  교육\n",
       "\n",
       "[39875 rows x 2 columns]"
      ]
     },
     "execution_count": 17,
     "metadata": {},
     "output_type": "execute_result"
    }
   ],
   "source": [
    "tag"
   ]
  },
  {
   "cell_type": "code",
   "execution_count": 22,
   "id": "9ff5fde2",
   "metadata": {},
   "outputs": [],
   "source": [
    "genre_cast = meta_df.drop_duplicates('album_id')[['album_id', 'genre_mid', 'cast_1']]"
   ]
  },
  {
   "cell_type": "code",
   "execution_count": 27,
   "id": "5b652bc3",
   "metadata": {},
   "outputs": [],
   "source": [
    "genre_cast.loc[genre_cast['genre_mid'] == '노래 율동'] = '노래율동'"
   ]
  },
  {
   "cell_type": "code",
   "execution_count": 62,
   "id": "6ab64326",
   "metadata": {},
   "outputs": [],
   "source": [
    "album_df = pd.merge(genre_cast, tag, on = 'album_id', how = 'left').fillna('unknown')"
   ]
  },
  {
   "cell_type": "code",
   "execution_count": 63,
   "id": "bfc14d3b",
   "metadata": {},
   "outputs": [
    {
     "data": {
      "text/html": [
       "<div>\n",
       "<style scoped>\n",
       "    .dataframe tbody tr th:only-of-type {\n",
       "        vertical-align: middle;\n",
       "    }\n",
       "\n",
       "    .dataframe tbody tr th {\n",
       "        vertical-align: top;\n",
       "    }\n",
       "\n",
       "    .dataframe thead th {\n",
       "        text-align: right;\n",
       "    }\n",
       "</style>\n",
       "<table border=\"1\" class=\"dataframe\">\n",
       "  <thead>\n",
       "    <tr style=\"text-align: right;\">\n",
       "      <th></th>\n",
       "      <th>album_id</th>\n",
       "      <th>genre_mid</th>\n",
       "      <th>cast_1</th>\n",
       "      <th>tag</th>\n",
       "    </tr>\n",
       "  </thead>\n",
       "  <tbody>\n",
       "    <tr>\n",
       "      <th>0</th>\n",
       "      <td>749</td>\n",
       "      <td>TV만화</td>\n",
       "      <td>타요</td>\n",
       "      <td>타요</td>\n",
       "    </tr>\n",
       "    <tr>\n",
       "      <th>1</th>\n",
       "      <td>750</td>\n",
       "      <td>TV만화</td>\n",
       "      <td>타요</td>\n",
       "      <td>타요</td>\n",
       "    </tr>\n",
       "    <tr>\n",
       "      <th>2</th>\n",
       "      <td>2131</td>\n",
       "      <td>TV만화</td>\n",
       "      <td>타요</td>\n",
       "      <td>타요</td>\n",
       "    </tr>\n",
       "    <tr>\n",
       "      <th>3</th>\n",
       "      <td>2625</td>\n",
       "      <td>TV만화</td>\n",
       "      <td>타요</td>\n",
       "      <td>타요</td>\n",
       "    </tr>\n",
       "    <tr>\n",
       "      <th>4</th>\n",
       "      <td>2594</td>\n",
       "      <td>TV만화</td>\n",
       "      <td>타요</td>\n",
       "      <td>타요</td>\n",
       "    </tr>\n",
       "    <tr>\n",
       "      <th>...</th>\n",
       "      <td>...</td>\n",
       "      <td>...</td>\n",
       "      <td>...</td>\n",
       "      <td>...</td>\n",
       "    </tr>\n",
       "    <tr>\n",
       "      <th>39870</th>\n",
       "      <td>39872</td>\n",
       "      <td>놀이교실</td>\n",
       "      <td>unknown</td>\n",
       "      <td>교육</td>\n",
       "    </tr>\n",
       "    <tr>\n",
       "      <th>39871</th>\n",
       "      <td>39873</td>\n",
       "      <td>놀이교실</td>\n",
       "      <td>unknown</td>\n",
       "      <td>교육</td>\n",
       "    </tr>\n",
       "    <tr>\n",
       "      <th>39872</th>\n",
       "      <td>39874</td>\n",
       "      <td>놀이교실</td>\n",
       "      <td>unknown</td>\n",
       "      <td>교육</td>\n",
       "    </tr>\n",
       "    <tr>\n",
       "      <th>39873</th>\n",
       "      <td>4779</td>\n",
       "      <td>책</td>\n",
       "      <td>unknown</td>\n",
       "      <td>동화</td>\n",
       "    </tr>\n",
       "    <tr>\n",
       "      <th>39874</th>\n",
       "      <td>11629</td>\n",
       "      <td>노래율동</td>\n",
       "      <td>타요와 친구들</td>\n",
       "      <td>교육</td>\n",
       "    </tr>\n",
       "  </tbody>\n",
       "</table>\n",
       "<p>39875 rows × 4 columns</p>\n",
       "</div>"
      ],
      "text/plain": [
       "      album_id genre_mid   cast_1 tag\n",
       "0          749      TV만화       타요  타요\n",
       "1          750      TV만화       타요  타요\n",
       "2         2131      TV만화       타요  타요\n",
       "3         2625      TV만화       타요  타요\n",
       "4         2594      TV만화       타요  타요\n",
       "...        ...       ...      ...  ..\n",
       "39870    39872      놀이교실  unknown  교육\n",
       "39871    39873      놀이교실  unknown  교육\n",
       "39872    39874      놀이교실  unknown  교육\n",
       "39873     4779         책  unknown  동화\n",
       "39874    11629      노래율동  타요와 친구들  교육\n",
       "\n",
       "[39875 rows x 4 columns]"
      ]
     },
     "execution_count": 63,
     "metadata": {},
     "output_type": "execute_result"
    }
   ],
   "source": [
    "album_df"
   ]
  },
  {
   "cell_type": "code",
   "execution_count": 56,
   "id": "7102fc85",
   "metadata": {},
   "outputs": [],
   "source": [
    "le = LabelEncoder()\n",
    "album_df['genre_mid'] = le.fit_transform(album_df['genre_mid'])\n",
    "album_df['cast_1'] = le.fit_transform(album_df['cast_1'])\n",
    "album_df['tag'] = le.fit_transform(album_df['tag'])"
   ]
  },
  {
   "cell_type": "code",
   "execution_count": 66,
   "id": "c9f11a1f",
   "metadata": {},
   "outputs": [],
   "source": [
    "X = album_df[['genre_mid', 'cast_1', 'tag']].values ## 데이터"
   ]
  },
  {
   "cell_type": "code",
   "execution_count": 67,
   "id": "8ba5dfa3",
   "metadata": {},
   "outputs": [
    {
     "data": {
      "text/plain": [
       "array([['TV만화', '타요', '타요'],\n",
       "       ['TV만화', '타요', '타요'],\n",
       "       ['TV만화', '타요', '타요'],\n",
       "       ...,\n",
       "       ['놀이교실', 'unknown', '교육'],\n",
       "       ['책', 'unknown', '동화'],\n",
       "       ['노래율동', '타요와 친구들', '교육']], dtype=object)"
      ]
     },
     "execution_count": 67,
     "metadata": {},
     "output_type": "execute_result"
    }
   ],
   "source": [
    "X"
   ]
  },
  {
   "cell_type": "code",
   "execution_count": 76,
   "id": "f629f03c",
   "metadata": {},
   "outputs": [],
   "source": [
    "my_kmodes = KModesAlgorithm(k = 3, init_cci=[0, 128, 12588]).fit(X) ## 클래스 초기화 및 클러스터링\n",
    "pred_cluster = my_kmodes.predict(X) ## 최종 클러스터"
   ]
  },
  {
   "cell_type": "code",
   "execution_count": 82,
   "id": "6b2e2770",
   "metadata": {},
   "outputs": [
    {
     "data": {
      "text/plain": [
       "(39875, 3)"
      ]
     },
     "execution_count": 82,
     "metadata": {},
     "output_type": "execute_result"
    }
   ],
   "source": [
    "X.shape"
   ]
  },
  {
   "cell_type": "code",
   "execution_count": 88,
   "id": "4e44835f",
   "metadata": {},
   "outputs": [
    {
     "name": "stdout",
     "output_type": "stream",
     "text": [
      "0    20690\n",
      "1     7317\n",
      "3     6447\n",
      "2     5421\n",
      "dtype: int64\n"
     ]
    }
   ],
   "source": [
    "my_kmodes4 = KModesAlgorithm(k = 4, init_cci=[0, 12588, 27669, 33239]).fit(X) ## 클래스 초기화 및 클러스터링\n",
    "pred_cluster4 = my_kmodes4.predict(X) ## 최종 클러스터\n",
    "print(pd.Series(pred_cluster4).value_counts())"
   ]
  },
  {
   "cell_type": "code",
   "execution_count": 85,
   "id": "36375896",
   "metadata": {},
   "outputs": [
    {
     "name": "stdout",
     "output_type": "stream",
     "text": [
      "0    27137\n",
      "1     7317\n",
      "2     5421\n",
      "dtype: int64\n",
      "0    27137\n",
      "1     7317\n",
      "2     5421\n",
      "dtype: int64\n",
      "0    27137\n",
      "1     7317\n",
      "2     5421\n",
      "dtype: int64\n",
      "0    27137\n",
      "1     7317\n",
      "2     5421\n",
      "dtype: int64\n",
      "0    27137\n",
      "1     7317\n",
      "2     5421\n",
      "dtype: int64\n",
      "0    27137\n",
      "1     7317\n",
      "2     5421\n",
      "dtype: int64\n",
      "0    27137\n",
      "1     7317\n",
      "2     5421\n",
      "dtype: int64\n",
      "0    27137\n",
      "1     7317\n",
      "2     5421\n",
      "dtype: int64\n"
     ]
    }
   ],
   "source": [
    "for i in range(3, 11):\n",
    "    my_kmodes = KModesAlgorithm(k = i, init_cci=[0, 12588, 27669]).fit(X)\n",
    "    pred_cluster = my_kmodes.predict(X)\n",
    "    print( pd.Series(pred_cluster).value_counts() )"
   ]
  },
  {
   "cell_type": "code",
   "execution_count": 81,
   "id": "8541f658",
   "metadata": {},
   "outputs": [
    {
     "data": {
      "text/plain": [
       "0    26102\n",
       "1    10079\n",
       "2     3694\n",
       "dtype: int64"
      ]
     },
     "execution_count": 81,
     "metadata": {},
     "output_type": "execute_result"
    }
   ],
   "source": [
    "pd.Series(pred_cluster).value_counts()"
   ]
  }
 ],
 "metadata": {
  "kernelspec": {
   "display_name": "recsys",
   "language": "python",
   "name": "recsys"
  },
  "language_info": {
   "codemirror_mode": {
    "name": "ipython",
    "version": 3
   },
   "file_extension": ".py",
   "mimetype": "text/x-python",
   "name": "python",
   "nbconvert_exporter": "python",
   "pygments_lexer": "ipython3",
   "version": "3.9.13"
  }
 },
 "nbformat": 4,
 "nbformat_minor": 5
}
